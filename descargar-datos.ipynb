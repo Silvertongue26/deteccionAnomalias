{
 "cells": [
  {
   "cell_type": "markdown",
   "metadata": {
    "collapsed": true,
    "pycharm": {
     "name": "#%% md\n"
    }
   },
   "source": [
    "# Descargar los datos de Kaggle\n",
    "Las siguientes instrucciones descargan el dataset ```api-access-behaviour-anomaly-dataset``` haciendo uso de la API de Kaggle."
   ]
  },
  {
   "cell_type": "markdown",
   "source": [
    "### Instalar la API de Kaggle por si no está instalada"
   ],
   "metadata": {
    "collapsed": false,
    "pycharm": {
     "name": "#%% md\n"
    }
   }
  },
  {
   "cell_type": "code",
   "execution_count": 3,
   "outputs": [],
   "source": [
    "%%capture\n",
    "!pip install kaggle"
   ],
   "metadata": {
    "collapsed": false,
    "pycharm": {
     "name": "#%%\n"
    }
   }
  },
  {
   "cell_type": "markdown",
   "source": [
    "### Descargar el dataset\n",
    "Descargar el dataset con la API de Kaggle, posteriormente se mueve a la carpeta ```data``` y se descomprimen los archivos."
   ],
   "metadata": {
    "collapsed": false,
    "pycharm": {
     "name": "#%% md\n"
    }
   }
  },
  {
   "cell_type": "code",
   "execution_count": 16,
   "outputs": [
    {
     "name": "stdout",
     "output_type": "stream",
     "text": [
      "Downloading api-access-behaviour-anomaly-dataset.zip to /Users/hugo/PythonProjects/deteccionAnomalias\r\n",
      "100%|████████████████████████████████████████| 781k/781k [00:00<00:00, 3.12MB/s]\r\n",
      "100%|████████████████████████████████████████| 781k/781k [00:00<00:00, 3.08MB/s]\r\n",
      "Archive:  api-access-behaviour-anomaly-dataset.zip\r\n",
      "  inflating: remaining_behavior_ext.csv  \r\n",
      "  inflating: supervised_dataset.csv  \r\n"
     ]
    }
   ],
   "source": [
    "!kaggle datasets download tangodelta/api-access-behaviour-anomaly-dataset\n",
    "!mv api-access-behaviour-anomaly-dataset.zip data\n",
    "!cd data && unzip -o api-access-behaviour-anomaly-dataset.zip"
   ],
   "metadata": {
    "collapsed": false,
    "pycharm": {
     "name": "#%%\n"
    }
   }
  },
  {
   "cell_type": "code",
   "execution_count": null,
   "outputs": [],
   "source": [],
   "metadata": {
    "collapsed": false,
    "pycharm": {
     "name": "#%%\n"
    }
   }
  }
 ],
 "metadata": {
  "kernelspec": {
   "display_name": "Python 3",
   "language": "python",
   "name": "python3"
  },
  "language_info": {
   "codemirror_mode": {
    "name": "ipython",
    "version": 2
   },
   "file_extension": ".py",
   "mimetype": "text/x-python",
   "name": "python",
   "nbconvert_exporter": "python",
   "pygments_lexer": "ipython2",
   "version": "2.7.6"
  }
 },
 "nbformat": 4,
 "nbformat_minor": 0
}