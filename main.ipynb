{
 "cells": [
  {
   "cell_type": "markdown",
   "id": "6e4bfef0-334d-4d15-9576-a73f907d3ce9",
   "metadata": {},
   "source": [
    "# Detección de anomalias\n",
    "**Proyecto:** 3  \n",
    "**Equipo:**  \n",
    "    -Ibsan Otniel Morales Yepiz  \n",
    "    -Hugo de Jesús Valenzuela Chaparro  \n",
    "    -Héctor Rodríguez Domínguez  \n",
    "    \n",
    "### Descripción de Datos\n",
    "   -El dataset empleado para este proyecto se obutvo de la plataforma de Kaggle en el siguiente enlace: https://www.kaggle.com/tangodelta/api-access-behaviour-anomaly-dataset\n",
    "    \n",
    "   -El dataset contine las sisguientes columnas:  \n",
    "    \n",
    "   <ul>\n",
    "    <li>**inter_api_access_duration(sec):** Intervalo de tiempo entre dos accesos consecutivos en la sesión de un usuario  </li>\n",
    "    <li>**api_access_uniqueness:** La proporción de diferentes APIs utilzadas con relación a las APIs utilizadas en la sesión de un usuario  </li>\n",
    "    <li>**sequence_length(count):** Promedio de llamadas que un usuario hace en una sesión  </li>\n",
    "    <li>**vsession_duration(min):** Duración de una sesión en minutos   </li>\n",
    "    <li>**ip_type:** Tipo de ip de donde proviene el usuario  </li>\n",
    "    <li>**behavior:** subtipo de comportamiento  </li>\n",
    "    <li>**behavior_type:** Tipo de comportamiento  </li>\n",
    "    <li>**num_sessions:** Numeor de sesiónes con diferente id de sesión  </li>\n",
    "    <li>**num_users:** NUmero de usuarios realizando el mismo tipo de llamadas a la API  </li>\n",
    "    <li>**num_unique_apis:** Número de APIs distintas en el mismo grupo de ocmportamiento  </li>\n",
    "    <li>**source:** Origen de la información  </li>\n",
    "    </ul>\n",
    "    \n",
    "\n",
    "### Importando librerias"
   ]
  },
  {
   "cell_type": "code",
   "execution_count": null,
   "id": "df46610b-1b23-46c5-83b4-8595c9c05017",
   "metadata": {},
   "outputs": [],
   "source": [
    "import numpy as np\n",
    "import pandas as pd\n",
    "import matplotlib.pyplot as plt\n",
    "from sklearn.ensemble import IsolationForest\n",
    "import seaborn as sns\n",
    "from pandas_profiling import ProfileReport \n",
    "from sklearn.neighbors import LocalOutlierFactor\n",
    "import sweetviz"
   ]
  },
  {
   "cell_type": "markdown",
   "id": "51e468d2-ef7e-47c5-9edf-d0f1b99e1c73",
   "metadata": {},
   "source": [
    "### Lectura y preparación de datos"
   ]
  },
  {
   "cell_type": "code",
   "execution_count": null,
   "id": "ad3dcf99-ef8f-4b44-9035-c7cf288b23d2",
   "metadata": {},
   "outputs": [],
   "source": [
    "#Read file\n",
    "df = pd.read_csv(\"data/remaining_behavior_ext.csv\")\n",
    "\n",
    "#Rename columns according to our preference\n",
    "df.rename(\n",
    "    columns={\"inter_api_access_duration(sec)\": \"access_duration\", \"api_access_uniqueness\": \"access_uniqueness\",\n",
    "             \"sequence_length(count)\": \"session_calls\", \"vsession_duration(min)\": \"session_duration\" }, \n",
    "    inplace=True\n",
    ")\n",
    "\n",
    "#Pop useless columns for our intention\n",
    "df.pop(\"ip_type\")\n",
    "df.pop(\"behavior\")\n",
    "df.pop(\"num_sessions\")\n",
    "df.pop(\"num_unique_apis\")\n",
    "df.pop(\"source\")\n",
    "\n",
    "#we remove unnamed column\n",
    "df = df.loc[:, ~df.columns.str.contains('^Unnamed')]\n",
    "\n",
    "#We assign a nuemrical value to behavior_type column\n",
    "#df[\"behavior_type\"].replace({\"attack\": 1, \"bot\": 2, \"normal\": 3, \"outlier\": 4}, inplace=True)\n",
    "\n",
    "#We transform minutes to seconds in order to normalize the DF\n",
    "df[\"session_duration\"] = 60 * df[\"session_duration\"]\n",
    "\n",
    "\n",
    "df.head()"
   ]
  },
  {
   "cell_type": "markdown",
   "id": "ba4c6271-af6a-435f-9c17-daaf37c069af",
   "metadata": {},
   "source": [
    "### Análisis exploratorio\n",
    "En esta sección se revisa la información de la estrucutra general de nuestro dataframe, asi como datos generales de este.  \n",
    "\n",
    "**La forma de nuestro dataframe:** "
   ]
  },
  {
   "cell_type": "code",
   "execution_count": 5,
   "id": "6310aa77-e07e-4dc4-a918-844e8f9fbe54",
   "metadata": {},
   "outputs": [
    {
     "ename": "NameError",
     "evalue": "name 'df' is not defined",
     "output_type": "error",
     "traceback": [
      "\u001b[0;31m---------------------------------------------------------------------------\u001b[0m",
      "\u001b[0;31mNameError\u001b[0m                                 Traceback (most recent call last)",
      "\u001b[0;32m/var/folders/74/vltqz_zn6fl91h3p17cbtp6m0000gn/T/ipykernel_7614/857714779.py\u001b[0m in \u001b[0;36m<module>\u001b[0;34m\u001b[0m\n\u001b[0;32m----> 1\u001b[0;31m \u001b[0mdf\u001b[0m\u001b[0;34m.\u001b[0m\u001b[0mshape\u001b[0m\u001b[0;34m\u001b[0m\u001b[0;34m\u001b[0m\u001b[0m\n\u001b[0m",
      "\u001b[0;31mNameError\u001b[0m: name 'df' is not defined"
     ]
    }
   ],
   "source": [
    "df.shape"
   ]
  },
  {
   "cell_type": "markdown",
   "id": "09f2778e-45be-4f64-a972-f97fc36db9ab",
   "metadata": {},
   "source": [
    "**Tipos de datos:**  "
   ]
  },
  {
   "cell_type": "code",
   "execution_count": null,
   "id": "e73f37ca-a02c-4a55-9e8c-d27ec6840a26",
   "metadata": {},
   "outputs": [],
   "source": [
    "df.dtypes"
   ]
  },
  {
   "cell_type": "markdown",
   "id": "3285f492-c936-4ce2-980e-a5b224f2b31a",
   "metadata": {},
   "source": [
    "**Valores perdidos, repetidos y NaN:**  "
   ]
  },
  {
   "cell_type": "code",
   "execution_count": null,
   "id": "c806206f-19f1-4533-ab62-2964d9bcadbf",
   "metadata": {},
   "outputs": [],
   "source": [
    "#Valores vacios\n",
    "df.isnull().sum()"
   ]
  },
  {
   "cell_type": "code",
   "execution_count": null,
   "id": "1e925476-b730-405d-a77a-ae8e9c0b1799",
   "metadata": {},
   "outputs": [],
   "source": [
    "#We remove rows with null values\n",
    "df = df.dropna()\n",
    "print(\"Dataset despues de quitar valores nulos\")\n",
    "df.isnull().sum()"
   ]
  },
  {
   "cell_type": "code",
   "execution_count": null,
   "id": "9da485b3-0365-489e-980c-53b10226c8c8",
   "metadata": {},
   "outputs": [],
   "source": [
    "#Eliminar valores NaN\n",
    "df.dropna(inplace=True)\n",
    "\n",
    "#Valores duplicados\n",
    "print(df.duplicated().sum())"
   ]
  },
  {
   "cell_type": "code",
   "execution_count": null,
   "id": "b02918b0-fa21-473d-8457-1e2f3f437f9f",
   "metadata": {},
   "outputs": [],
   "source": [
    "#Eliminamos filas con valores duplicados\n",
    "df.drop_duplicates(keep='last',inplace=True)\n",
    "print(df.duplicated().sum())"
   ]
  },
  {
   "cell_type": "markdown",
   "id": "8570d691-71f4-4319-8116-65e1c8dfce2f",
   "metadata": {},
   "source": [
    "**Mapa de correlación**  \n",
    "En esta sección se muestra un mapa de calor, donde podemos observar que no hay una correlación importante entre las diferentes columnas del dataset\n",
    "\n"
   ]
  },
  {
   "cell_type": "code",
   "execution_count": null,
   "id": "cc7e7d1a-88dd-49a2-b788-6ee9e93c2d95",
   "metadata": {},
   "outputs": [],
   "source": [
    "plt.figure(figsize=(20,6))\n",
    "hm = sns.heatmap(df.corr(),vmin=-1, vmax=1, annot=True,cmap='PiYG')\n",
    "hm.set_title('Correlation Heatmap',  fontdict={'fontsize':18});\n",
    "plt.show()"
   ]
  },
  {
   "cell_type": "code",
   "execution_count": null,
   "id": "3a469fba-1050-4636-8c7b-d856e6aed837",
   "metadata": {},
   "outputs": [],
   "source": [
    "sns.pairplot(df) \n",
    "plt.show()"
   ]
  },
  {
   "cell_type": "markdown",
   "id": "4ac9fff3-e199-4f40-ae9c-1254a6bab3dc",
   "metadata": {},
   "source": [
    "#### Descripción de datos"
   ]
  },
  {
   "cell_type": "code",
   "execution_count": null,
   "id": "3ece7c58-5a5d-44b3-b9f8-026de2757ac4",
   "metadata": {},
   "outputs": [],
   "source": [
    "df.groupby('behavior_type').agg(['mean','min', 'max'])"
   ]
  },
  {
   "cell_type": "markdown",
   "id": "da089036-14bc-4712-826b-62a1d847abe4",
   "metadata": {},
   "source": [
    "#### Creación de perfil con \"sweetviz\""
   ]
  },
  {
   "cell_type": "code",
   "execution_count": null,
   "id": "f0744c24-a912-4771-bb10-21af02890195",
   "metadata": {},
   "outputs": [],
   "source": [
    "df_profile = ProfileReport(\n",
    "    df, \n",
    "    explorative=True,\n",
    "    title='Comportamiento de dataframe', \n",
    "    html={'style':{'full_width':False}}\n",
    ") \n",
    "\n",
    "df_profile.to_file(\"profile.html\")\n",
    "\n",
    "B_profile = sweetviz.analyze(df)\n",
    "B_profile.show_html(\"profile.html\")"
   ]
  },
  {
   "cell_type": "markdown",
   "id": "c4563279-25c3-4f17-9e53-3672d41de6e4",
   "metadata": {},
   "source": [
    "#### Basados en la información previamente obtenida en el análisis del dataset, queremos detectar las anomalias en el tiempo que transcurre entre cada llamada a una API, para determinar si es un bot."
   ]
  },
  {
   "cell_type": "markdown",
   "id": "4db1c28c-fdb3-4a89-8cb6-1c82cee3a51f",
   "metadata": {},
   "source": [
    "#### Local Outlier factor\n",
    "\n",
    "El factor atípico local es un algoritmo propuesto para encontrar puntos de datos anómalos midiendo la desviación local de un punto de datos dado con respecto a sus vecinos."
   ]
  },
  {
   "cell_type": "code",
   "execution_count": null,
   "id": "e2ff9b8e-d067-4b25-b9b5-43459c766197",
   "metadata": {},
   "outputs": [],
   "source": [
    "df[\"behavior_type\"].replace({\"attack\": 1, \"bot\": 2, \"normal\": 3, \"outlier\": 4}, inplace=True)"
   ]
  },
  {
   "cell_type": "code",
   "execution_count": null,
   "id": "79903dea-ff2d-45de-8fe9-f13bba24ec88",
   "metadata": {},
   "outputs": [],
   "source": [
    "clf = LocalOutlierFactor(n_neighbors=100)\n",
    "estimado_LOF = clf.fit_predict(df)\n",
    "\n",
    "plt.scatter(x=df.iloc[:,0], y=df.iloc[:,1], c=np.where(estimado_LOF > 0.0,1,0), cmap='jet')\n",
    "#plt.scatter(x=X[:,0], y=X[:,1], c=estimado_LOF, cmap='jet')\n",
    "plt.xlabel(\"num_users\")\n",
    "plt.ylabel(\"session_duration\")\n",
    "plt.colorbar()\n",
    "plt.show()"
   ]
  },
  {
   "cell_type": "code",
   "execution_count": null,
   "id": "c88b5ec0-d721-4290-ad2b-85ac5162575e",
   "metadata": {},
   "outputs": [],
   "source": [
    "np.where(estimado_LOF > 0.0,1,0).mean()"
   ]
  },
  {
   "cell_type": "markdown",
   "id": "32242a9e-ca70-458c-ac9d-144e7978558d",
   "metadata": {},
   "source": [
    "#### Isolation Forest\n",
    "Es una método no supervisado para identificar anomalías (outliers) cuando los datos no están etiquetados, es decir, no se conoce la clasificación real (anomalía - no anomalía) de las observaciones. \n",
    "\n",
    "Su funcionamiento está inspirado en el algoritmo de clasificación y regresión Random Forest"
   ]
  },
  {
   "cell_type": "code",
   "execution_count": null,
   "id": "f5a3fb38-5451-4e94-9f19-aae28f11422b",
   "metadata": {},
   "outputs": [],
   "source": [
    "random_state = np.random.RandomState(43)\n",
    "model=IsolationForest(n_estimators=50, contamination=float(0.9), warm_start=True, random_state=random_state)\n",
    "\n",
    "#model = IsolationForest(n_estimators=50, warm_start=True)\n",
    "model.fit(df[['access_duration']])\n",
    "\n",
    "df['scores'] = model.decision_function(df[['access_duration']])\n",
    "\n",
    "df['anomaly_score'] = model.predict(df[['access_duration']])\n",
    "\n",
    "#print(df[df['anomaly_score']==-1].head(20))\n",
    "#df[df['anomaly_score']==-1].tail(20) \n",
    "\n",
    "anomaly_count = df.shape[0]\n",
    "    \n",
    "accuracy = 100*list(df['anomaly_score']).count(-1)/anomaly_count\n",
    "#accuracy = df[df['anomaly_score']==-1].head()\n",
    "print(\"Accuracy of the model:\", accuracy)\n",
    "\n",
    "plt.scatter(x=df.iloc[:,0], y=df.iloc[:,1], c=df['scores'], cmap='jet')\n",
    "plt.colorbar()\n",
    "plt.show()"
   ]
  },
  {
   "cell_type": "markdown",
   "id": "6908dee0-3632-4b82-b111-4c1ae4420b34",
   "metadata": {},
   "source": [
    "#### Conclusiones\n",
    "\n",
    "Como se puede observar, este dataset presenta casos muy especiales donde los valores cercanos al 0 se presentan como valores anomales fdebido a la rapides de acceso entre las aplicaciones\n",
    "\n",
    "Asimismo no existe mucha correlacion entre las diferente variables, por lo cual se decidio trabajar con la columna de \"access_duration\", la cual tiene una mayor correlación con \"session_duration\" como se muestra en los pair plots.\n",
    "\n",
    "Contemplando los resultados entre ambos metodos, se puede observar que el mejor resultado se obtiene a traves del uso del Local Outlier factor. debido a que se ajusta mejor por los vecinos y cercania de los valores en de"
   ]
  },
  {
   "cell_type": "markdown",
   "id": "48025ca2-dcd9-42a3-99c6-a35237bb26fb",
   "metadata": {},
   "source": [
    "***"
   ]
  },
  {
   "cell_type": "markdown",
   "id": "f82bd67b-c280-4066-8b8c-305ce6a58a4a",
   "metadata": {},
   "source": [
    "# Conjunto de Datos con etiquetado\n",
    "En esta siguiente sección se usa el otro dataset, llamado ```supervised_dataset```, el cual contiene ya etiquetado si es outlier o no. Sin embargo en este proyecto se ignora el etiquetado y se aplican los métodos de detección de anomalías como si no se tuviesen."
   ]
  },
  {
   "cell_type": "markdown",
   "id": "4a92a88e-3d20-4c05-9996-a8cb71533511",
   "metadata": {},
   "source": [
    "### Diccionario de los datos\n",
    "- **inter_api_access_duration(sec):** Intervalo de tiempo entre dos accesos consecutivos a la API en una sesión de usuario.\n",
    "- **api_access_uniqueness:** La proporción del número de APIs distintas vistas en una sesión de un usuario con respecto al total de llamadas hechas a la API en esa sesión.\n",
    "- **sequence_length(count):** El número total de llamadas a API hechas en una sesión por una usuario en promedio.\n",
    "- **vsession_duration(min):** La duración de una sesión de usuario dentro de una ventana de observación en minutos.\n",
    "- **ip_type:** El tipo de IP de donde proviene el usuario.\n",
    "- **num_sessions:** Número de sesiones de usuario cada una con diferente session_id.\n",
    "- **num_users:** Número de usuarios generando el mismo tipo de secuencias de llamadas de API.\n",
    "- **num_unique_apis:** Número de APIs distintas en ese grupo de comportamiento (behavior group).\n",
    "- **source:** Origen de los datos. F = Financial services, E = Ecommerce.\n",
    "- **classification:** Clasificación, outlier o normal."
   ]
  },
  {
   "cell_type": "markdown",
   "id": "89329873-489f-4590-b38c-03db4d01908c",
   "metadata": {},
   "source": [
    "# Local Outlier Factor"
   ]
  },
  {
   "cell_type": "markdown",
   "id": "ea5f6d40-7e4f-42fe-b098-82fa3504d332",
   "metadata": {},
   "source": [
    "## CARGA DE DATOS"
   ]
  },
  {
   "cell_type": "code",
   "execution_count": null,
   "id": "cbc9ba50-3738-4eee-aa37-6014a3c4b91e",
   "metadata": {},
   "outputs": [],
   "source": [
    "dfsup = pd.read_csv('/data/supervised_dataset.csv')"
   ]
  },
  {
   "cell_type": "code",
   "execution_count": null,
   "id": "43722df3-6c5d-4abc-bcc4-108f69e77e02",
   "metadata": {},
   "outputs": [],
   "source": [
    "dfsup"
   ]
  },
  {
   "cell_type": "markdown",
   "id": "99c05a78-e7a3-4380-aafe-9f8c975cbae9",
   "metadata": {},
   "source": [
    "## ANALISIS EXPLORATORIO"
   ]
  },
  {
   "cell_type": "markdown",
   "id": "54c760b8-f77d-4318-a292-7f74a70ff8e1",
   "metadata": {},
   "source": [
    "### ESTRUCTURA DE DATOS"
   ]
  },
  {
   "cell_type": "code",
   "execution_count": null,
   "id": "4ecafdaa-844d-4f81-85cc-adf03f7e9bd0",
   "metadata": {},
   "outputs": [],
   "source": [
    "dfsup.shape"
   ]
  },
  {
   "cell_type": "code",
   "execution_count": null,
   "id": "ab8e5f1d-6948-450f-87e5-b80c4e9111ce",
   "metadata": {},
   "outputs": [],
   "source": [
    "#Estructura de datos\n",
    "dfsup.dtypes"
   ]
  },
  {
   "cell_type": "code",
   "execution_count": null,
   "id": "b2f3be64-6cd1-4d77-b277-609b8b3bc624",
   "metadata": {},
   "outputs": [],
   "source": [
    "dfsup.describe()"
   ]
  },
  {
   "cell_type": "markdown",
   "id": "f43e6ce8-a6af-4cf0-ad0c-fbd0d8534e1a",
   "metadata": {},
   "source": [
    "### Valores Perdidos"
   ]
  },
  {
   "cell_type": "code",
   "execution_count": null,
   "id": "916ea038-37f5-47a5-8cf2-005f4daf6cb6",
   "metadata": {},
   "outputs": [],
   "source": [
    "dfsup.isnull().sum()"
   ]
  },
  {
   "cell_type": "code",
   "execution_count": null,
   "id": "574f7525-d0ea-4998-9fae-8339442f378a",
   "metadata": {},
   "outputs": [],
   "source": [
    "dfsup.isna().sum()"
   ]
  },
  {
   "cell_type": "code",
   "execution_count": null,
   "id": "a004ad40-112f-4281-a10c-19d7faa06805",
   "metadata": {},
   "outputs": [],
   "source": [
    "#Drop Nans\n",
    "dftidy = dfsup.dropna()\n",
    "#Drop Unnamed classification column\n",
    "dftidy =dftidy.drop(['classification'], axis=1)\n",
    "dftidy =dftidy.drop(dftidy.columns[[0]], axis=1)\n",
    "#Make Columns type Factor\n",
    "dftidy['source'] = dftidy['source'].astype('category')\n",
    "dftidy['ip_type'] = dftidy['ip_type'].astype('category')\n",
    "#dftidy.isna().sum()\n",
    "dftidy.dtypes"
   ]
  },
  {
   "cell_type": "code",
   "execution_count": null,
   "id": "a822ca90-0e3a-4484-a0bf-af0686cfdbf1",
   "metadata": {},
   "outputs": [],
   "source": [
    "dftidy.shape"
   ]
  },
  {
   "cell_type": "code",
   "execution_count": null,
   "id": "ae84aa79-c47a-4a6b-b8d9-baa634aebe26",
   "metadata": {},
   "outputs": [],
   "source": [
    "plt.figure(figsize=(16,6))\n",
    "sns.heatmap(dftidy.corr(),vmin=-1, vmax=1, annot=True,cmap='RdBu')\n",
    "heatmap.set_title('Correlacion Heatmap', fontdict={'fontsize':18}, pad=12);\n",
    "plt.show()"
   ]
  },
  {
   "cell_type": "code",
   "execution_count": null,
   "id": "4e28b9ef-287b-4c9d-b71b-12345c62fa19",
   "metadata": {},
   "outputs": [],
   "source": [
    "sns.pairplot(dftidy) \n",
    "plt.show()"
   ]
  },
  {
   "cell_type": "markdown",
   "id": "e7d30c38-dcb0-4928-8059-ae76d942add9",
   "metadata": {},
   "source": [
    "## LOCAL OUTLIER FACTOR"
   ]
  },
  {
   "cell_type": "code",
   "execution_count": null,
   "id": "fd28acbf-5baa-4f12-b1d3-b47627b5b8cb",
   "metadata": {},
   "outputs": [],
   "source": [
    "X = dftidy[[\"num_users\", \"inter_api_access_duration(sec)\"]].to_numpy()\n",
    "X.shape"
   ]
  },
  {
   "cell_type": "code",
   "execution_count": null,
   "id": "3478ef62-9690-4fe0-8ee0-9598731b6e32",
   "metadata": {},
   "outputs": [],
   "source": [
    "clf = LocalOutlierFactor(n_neighbors=100)\n",
    "estimado_LOF = clf.fit_predict(X)\n",
    "\n",
    "plt.scatter(x=X[:,0], y=X[:,1], c=np.where(estimado_LOF > 0.0,1,0), cmap='jet')\n",
    "#plt.scatter(x=X[:,0], y=X[:,1], c=estimado_LOF, cmap='jet')\n",
    "plt.xlabel(\"num_users\")\n",
    "plt.ylabel(\"inter_api_access_duration(sec)\")\n",
    "plt.colorbar()\n",
    "plt.show()"
   ]
  },
  {
   "cell_type": "code",
   "execution_count": null,
   "id": "713340ca-fe46-408c-8cf1-0a608e8f2a2d",
   "metadata": {},
   "outputs": [],
   "source": [
    "np.where(estimado_LOF > 0.0,1,0).mean() "
   ]
  },
  {
   "cell_type": "markdown",
   "id": "21231fa6-24a0-4a6d-ac6d-295440299302",
   "metadata": {},
   "source": [
    "***"
   ]
  },
  {
   "cell_type": "markdown",
   "id": "faa49e6a-7895-46c1-b652-a31c3ed6d4da",
   "metadata": {},
   "source": [
    "# One-Class Support Vector Machine"
   ]
  },
  {
   "cell_type": "markdown",
   "id": "d62d0654-35ca-47d4-8ed3-c59bd64a52fd",
   "metadata": {},
   "source": [
    "## Leyendo datos"
   ]
  },
  {
   "cell_type": "code",
   "execution_count": null,
   "id": "8de3c847-6319-4346-8c75-3dc379e03cea",
   "metadata": {},
   "outputs": [],
   "source": [
    "# leyendo datos\n",
    "df_sup = pd.read_csv(\"./data/supervised_dataset.csv\", index_col=0)"
   ]
  },
  {
   "cell_type": "markdown",
   "id": "0130cb50-8e13-48b8-a2ce-c1f579de3fbc",
   "metadata": {},
   "source": [
    "### Descripción de las variables\n"
   ]
  },
  {
   "cell_type": "code",
   "execution_count": null,
   "id": "24637490-670d-4696-a8fd-388daa7c6606",
   "metadata": {},
   "outputs": [],
   "source": [
    "df_sup.dtypes"
   ]
  },
  {
   "cell_type": "code",
   "execution_count": null,
   "id": "c59b9f6c-4145-4498-930c-982ef3622fcb",
   "metadata": {},
   "outputs": [],
   "source": [
    "# cambiando la variable vsession_duration a segundos para que sea comparable\n",
    "df_sup.rename(\n",
    "    columns={\"vsession_duration(min)\": \"vsession_duration(sec)\" }, \n",
    "    inplace=True\n",
    ")\n",
    "df_sup['vsession_duration(sec)'] = df_sup['vsession_duration(sec)'] * 60"
   ]
  },
  {
   "cell_type": "code",
   "execution_count": null,
   "id": "4fdb062f-7d9e-4c05-9904-05adcd463887",
   "metadata": {},
   "outputs": [],
   "source": [
    "# categorizando las variables de categoria\n",
    "for col in ['ip_type', 'source', 'classification']:\n",
    "    df_sup[col] = df_sup[col].astype('category')\n",
    "df_sup.dtypes"
   ]
  },
  {
   "cell_type": "code",
   "execution_count": null,
   "id": "7055f87a-ce32-4543-80be-00799bfd57cc",
   "metadata": {},
   "outputs": [],
   "source": [
    "# descripción de las características numéricas\n",
    "df_sup.describe()"
   ]
  },
  {
   "cell_type": "code",
   "execution_count": null,
   "id": "0171ee5f-199f-4011-90bb-1e993106b100",
   "metadata": {},
   "outputs": [],
   "source": [
    "# No hay valores perdidos\n",
    "df_sup.isna().sum()"
   ]
  },
  {
   "cell_type": "code",
   "execution_count": null,
   "id": "810e95f5-9a9d-41b6-8cf8-62cae5859d93",
   "metadata": {},
   "outputs": [],
   "source": [
    "# se retiran los valores duplicados\n",
    "df_sup.duplicated().sum()"
   ]
  },
  {
   "cell_type": "code",
   "execution_count": null,
   "id": "3a38d072-011b-4be5-9314-3ee09152cbf6",
   "metadata": {},
   "outputs": [],
   "source": [
    "df_sup = df_sup.drop_duplicates()\n",
    "df_sup.duplicated().sum()"
   ]
  },
  {
   "cell_type": "markdown",
   "id": "933156d6-e91d-4fb8-91a7-693611d4805b",
   "metadata": {},
   "source": [
    "### Visualizaciones"
   ]
  },
  {
   "cell_type": "code",
   "execution_count": null,
   "id": "7b034111-777d-45bd-bec9-ecba10cc00af",
   "metadata": {},
   "outputs": [],
   "source": [
    "# dataframe con solo columnas numericas\n",
    "df_sup_num = df_sup.drop(['ip_type','source', 'classification'], axis=1)"
   ]
  },
  {
   "cell_type": "code",
   "execution_count": null,
   "id": "169794c3-c476-4340-b7f0-b7923fcafd6b",
   "metadata": {},
   "outputs": [],
   "source": [
    "from pandas_profiling import ProfileReport\n",
    "profile = ProfileReport(df_sup, title=\"Pandas Profiling Report\")"
   ]
  },
  {
   "cell_type": "code",
   "execution_count": null,
   "id": "72a04c17-8c84-4e4f-84c5-a9df3842c3b0",
   "metadata": {},
   "outputs": [],
   "source": [
    "profile.to_notebook_iframe()"
   ]
  },
  {
   "cell_type": "markdown",
   "id": "12664716-bf1c-4ebe-9951-7d5a5497d13a",
   "metadata": {},
   "source": [
    "No se observa normalidad en las columnas numéricas, por lo que no sirviría el método de curva elíptica.\n",
    "\n",
    "Veamos primero un par de interacciones de variables."
   ]
  },
  {
   "cell_type": "code",
   "execution_count": null,
   "id": "5aa7b88c-31af-4785-822e-5f264c7449fc",
   "metadata": {},
   "outputs": [],
   "source": [
    "# numero de usuarios vs numero de sesion\n",
    "sns.scatterplot(data=df_sup_num, x = 'num_users', y = 'num_sessions')"
   ]
  },
  {
   "cell_type": "code",
   "execution_count": null,
   "id": "a8015c6c-afa3-4ce6-8de5-48fd1a0e382f",
   "metadata": {},
   "outputs": [],
   "source": [
    "df_sup_num.head()"
   ]
  },
  {
   "cell_type": "code",
   "execution_count": null,
   "id": "08574aab-80ff-40e9-87d6-24f952928075",
   "metadata": {},
   "outputs": [],
   "source": [
    "df_sup_num.dtypes"
   ]
  },
  {
   "cell_type": "code",
   "execution_count": null,
   "id": "cbb85a77-cda1-40cd-8d99-ed6c430cccea",
   "metadata": {},
   "outputs": [],
   "source": [
    "sns.pairplot(data=df_sup_num)"
   ]
  },
  {
   "cell_type": "markdown",
   "id": "f96b1c28-c269-40b0-9028-9a2c68c68032",
   "metadata": {},
   "source": [
    "## Detección de Anomalías\n",
    "\n",
    "### One-Class Support Vector Machine"
   ]
  },
  {
   "cell_type": "code",
   "execution_count": null,
   "id": "5e34bb80-d95c-40f6-accf-b6f4f4b842ee",
   "metadata": {},
   "outputs": [],
   "source": [
    "# importar el modulo desde scikit learn\n",
    "from sklearn.svm import OneClassSVM"
   ]
  },
  {
   "cell_type": "code",
   "execution_count": null,
   "id": "853ac78f-7a83-4889-841d-bd2ff1387e49",
   "metadata": {},
   "outputs": [],
   "source": [
    "# ajustar el hiperparametro\n",
    "clf = OneClassSVM(nu=0.15, kernel='rbf')"
   ]
  },
  {
   "cell_type": "code",
   "execution_count": null,
   "id": "a7af6f24-7613-42e4-ad52-b99a7a6a553c",
   "metadata": {},
   "outputs": [],
   "source": [
    "# predicciones de los outliers\n",
    "# el método regresa 1 para no outliers y -1 para outliers\n",
    "y_outlier = clf.fit_predict(df_sup_num)"
   ]
  },
  {
   "cell_type": "code",
   "execution_count": null,
   "id": "73e4507d-9249-4e5b-afd7-36f6e8a0818c",
   "metadata": {},
   "outputs": [],
   "source": [
    "y_outlier.shape"
   ]
  },
  {
   "cell_type": "code",
   "execution_count": null,
   "id": "9f1b01d3-d7ad-4bf6-9eef-af1060c66096",
   "metadata": {},
   "outputs": [],
   "source": [
    "np.unique(y_outlier, return_counts=True)"
   ]
  },
  {
   "cell_type": "code",
   "execution_count": null,
   "id": "2d217c10-3135-4488-abce-439e92b22891",
   "metadata": {},
   "outputs": [],
   "source": [
    "# agregar la columna con las predicciones a nuevo dataframe, codificadas como outlier, normal\n",
    "df_pred = df_sup_num.copy()\n",
    "df_pred['y_outlier'] = np.where(y_outlier > 0, 'normal', 'outlier')\n",
    "df_pred['y_outlier'] = df_pred['y_outlier'].astype('category')"
   ]
  },
  {
   "cell_type": "code",
   "execution_count": null,
   "id": "85b31d5f-bb24-4bbe-b4e8-71e54cdf8af4",
   "metadata": {},
   "outputs": [],
   "source": [
    "df_pred.head()"
   ]
  },
  {
   "cell_type": "markdown",
   "id": "5ed0af57-7912-47bf-9658-435a1b9311e8",
   "metadata": {},
   "source": [
    "### Graficación de los outliers"
   ]
  },
  {
   "cell_type": "code",
   "execution_count": null,
   "id": "c40bab23-7357-4e04-96a3-96ed12d6c0b5",
   "metadata": {},
   "outputs": [],
   "source": [
    "sns.pairplot(data=df_pred, hue = 'y_outlier')"
   ]
  },
  {
   "cell_type": "code",
   "execution_count": null,
   "id": "837d8dbd-5715-454b-b095-469a9c27dde2",
   "metadata": {},
   "outputs": [],
   "source": [
    "df_pred.dtypes"
   ]
  },
  {
   "cell_type": "markdown",
   "id": "35a483cf-7847-466a-8012-224e2a5077db",
   "metadata": {},
   "source": [
    "### Considerando solamente 4 características en el ajuste del One-Class SVM\n",
    "\n",
    "- **inter_api_access_duration(sec):** Intervalo de tiempo entre dos accesos consecutivos a la API en una sesión de usuario.\n",
    "- **sequence_length(count):** El número total de llamadas a API hechas en una sesión por una usuario en promedio.\n",
    "\n",
    "- **num_sessions:** Número de sesiones de usuario cada una con diferente session_id.\n",
    "- **num_users:** Número de usuarios generando el mismo tipo de secuencias de llamadas de API."
   ]
  },
  {
   "cell_type": "markdown",
   "id": "33b5fb52-5739-49b1-841c-9f62b0a33821",
   "metadata": {},
   "source": [
    "#### El dataframe"
   ]
  },
  {
   "cell_type": "code",
   "execution_count": null,
   "id": "ccea42c6-85db-4c24-b476-2d08e91f2178",
   "metadata": {},
   "outputs": [],
   "source": [
    "# dataframe con las 4 características\n",
    "df_subset = df_sup_num.copy()\n",
    "df_subset = df_subset[['num_users','num_sessions', 'sequence_length(count)', 'inter_api_access_duration(sec)']]\n",
    "#df_subset = df_subset[['num_users','num_sessions', 'inter_api_access_duration(sec)']]\n",
    "#df_subset = df_subset[['num_users','num_sessions']]\n",
    "df_subset.head()"
   ]
  },
  {
   "cell_type": "code",
   "execution_count": null,
   "id": "f8bad479-dd23-4ee6-a963-654532be1a5e",
   "metadata": {},
   "outputs": [],
   "source": [
    "# ajustar el hiperparametro\n",
    "clf = OneClassSVM(nu=0.15, kernel='rbf')\n",
    "# predicciones de los outliers\n",
    "# el método regresa 1 para no outliers y -1 para outliers\n",
    "y_outlier = clf.fit_predict(df_subset)"
   ]
  },
  {
   "cell_type": "code",
   "execution_count": null,
   "id": "61d001ac-3996-4c02-95ee-806df990f7f2",
   "metadata": {},
   "outputs": [],
   "source": [
    "y_outlier.shape"
   ]
  },
  {
   "cell_type": "code",
   "execution_count": null,
   "id": "b99c9e6f-77b0-42bb-9e6f-54ab5aed8c4a",
   "metadata": {},
   "outputs": [],
   "source": [
    "np.unique(y_outlier, return_counts=True)"
   ]
  },
  {
   "cell_type": "code",
   "execution_count": null,
   "id": "ba29bdde-f531-4a4d-b99e-a86ff5dd2db7",
   "metadata": {},
   "outputs": [],
   "source": [
    "# agregar la columna con las predicciones a nuevo dataframe, codificadas como outlier, normal\n",
    "df_pred = df_sup_num.copy()\n",
    "df_pred['y_outlier'] = np.where(y_outlier > 0, 'normal', 'outlier')\n",
    "df_pred['y_outlier'] = df_pred['y_outlier'].astype('category')"
   ]
  },
  {
   "cell_type": "code",
   "execution_count": null,
   "id": "e0383529-962f-406a-bf9d-35516a9d8060",
   "metadata": {},
   "outputs": [],
   "source": [
    "df_pred.head()"
   ]
  },
  {
   "cell_type": "code",
   "execution_count": null,
   "id": "0f1097a6-b0f9-444e-b6b6-280efe3ec6d8",
   "metadata": {},
   "outputs": [],
   "source": [
    "sns.pairplot(data=df_pred, hue = 'y_outlier')"
   ]
  },
  {
   "cell_type": "markdown",
   "id": "6a847d4e-1243-4caf-b759-10a241ea60e5",
   "metadata": {},
   "source": [
    "### Considerando solamente 2 características en el ajuste del One-Class SVM\n",
    "\n",
    "- **num_sessions:** Número de sesiones de usuario cada una con diferente session_id.\n",
    "- **num_users:** Número de usuarios generando el mismo tipo de secuencias de llamadas de API."
   ]
  },
  {
   "cell_type": "code",
   "execution_count": null,
   "id": "92555fb9-75bd-483a-a257-3cb0d2e150fc",
   "metadata": {},
   "outputs": [],
   "source": [
    "# dataframe con las 4 características\n",
    "df_subset = df_sup_num.copy()\n",
    "df_subset = df_subset[['num_users','num_sessions']]\n",
    "df_subset.head()\n",
    "\n",
    "# ajustar el hiperparametro\n",
    "clf = OneClassSVM(nu=0.15, kernel='rbf')\n",
    "# predicciones de los outliers\n",
    "# el método regresa 1 para no outliers y -1 para outliers\n",
    "y_outlier = clf.fit_predict(df_subset)"
   ]
  },
  {
   "cell_type": "code",
   "execution_count": null,
   "id": "4de7ab9f-0f73-408e-9619-1e66ba84d211",
   "metadata": {},
   "outputs": [],
   "source": [
    "y_outlier.shape"
   ]
  },
  {
   "cell_type": "code",
   "execution_count": null,
   "id": "c55ae847-e7b8-49b8-914d-a09e91c73565",
   "metadata": {},
   "outputs": [],
   "source": [
    "np.unique(y_outlier, return_counts=True)"
   ]
  },
  {
   "cell_type": "code",
   "execution_count": null,
   "id": "8f9d6180-a9fe-42ab-adf5-66fef06c9020",
   "metadata": {},
   "outputs": [],
   "source": [
    "# agregar la columna con las predicciones a nuevo dataframe, codificadas como outlier, normal\n",
    "df_pred = df_sup_num.copy()\n",
    "df_pred['y_outlier'] = np.where(y_outlier > 0, 'normal', 'outlier')\n",
    "df_pred['y_outlier'] = df_pred['y_outlier'].astype('category')\n",
    "\n",
    "df_pred.head()"
   ]
  },
  {
   "cell_type": "code",
   "execution_count": null,
   "id": "afad65bc-5bba-40fa-9c2e-c4a99d219c68",
   "metadata": {},
   "outputs": [],
   "source": [
    "sns.pairplot(data=df_pred, hue = 'y_outlier')"
   ]
  },
  {
   "cell_type": "markdown",
   "id": "b0785f5b-792b-45fd-a599-fea2dc77e85c",
   "metadata": {},
   "source": [
    "## Conclusiones\n",
    "como es de esperarse, al aplicar el método OC-SVM a las 7 variables numéricas, podemos ver que en todas las gráficas de pares se encuentran outliers. Mientras que se van considerando menos variables para la filtración de los outliers, se encuentran menos.\n",
    "\n",
    "En este caso se fijo el parámetro ```nu = 0.15```  para considerar la misma proporción de outliers en los 3 casos.  \n",
    "\n",
    "Considerando solo las variables de número de sesiones y número de usuarios vemos que se quedan algunas gráficas de pares sin filrar datos outliers.\n",
    "\n",
    "El caso equilibrado parece ser considerar las variables de tiempo junto con las de sesiones, que son las siguientes\n",
    "\n",
    "- **inter_api_access_duration(sec)** \n",
    "- **sequence_length(count)**\n",
    "- **num_sessions** \n",
    "- **num_users** \n",
    "\n",
    "Parece filtrar bien como se observa en las gráficas de número de sesion y número de usuario contra el número de llamads únicas a la API, dejando un comportamiento que se ajustaría bien con una regresión lineal. \n",
    "\n",
    "Por otro lado, para la gráfica de número de usuarios contra número de sesiones parece filtrar excesivamente y romper la tendencia de linealidad que se observa."
   ]
  },
  {
   "cell_type": "code",
   "execution_count": null,
   "id": "c175e26f-6bb9-4970-b766-1c4fc8c66697",
   "metadata": {},
   "outputs": [],
   "source": []
  },
  {
   "cell_type": "code",
   "execution_count": null,
   "id": "d9dcb774-94a2-47de-a897-701ae99ad5aa",
   "metadata": {},
   "outputs": [],
   "source": []
  },
  {
   "cell_type": "code",
   "execution_count": null,
   "id": "23ce6da3-2cd4-4984-961b-fe26a3b6f7e6",
   "metadata": {},
   "outputs": [],
   "source": []
  }
 ],
 "metadata": {
  "kernelspec": {
   "display_name": "Python 3 (ipykernel)",
   "language": "python",
   "name": "python3"
  },
  "language_info": {
   "codemirror_mode": {
    "name": "ipython",
    "version": 3
   },
   "file_extension": ".py",
   "mimetype": "text/x-python",
   "name": "python",
   "nbconvert_exporter": "python",
   "pygments_lexer": "ipython3",
   "version": "3.8.12"
  }
 },
 "nbformat": 4,
 "nbformat_minor": 5
}
